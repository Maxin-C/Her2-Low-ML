{
 "cells": [
  {
   "cell_type": "code",
   "execution_count": 1,
   "metadata": {},
   "outputs": [],
   "source": [
    "import numpy as np\n",
    "import matplotlib.pyplot as plt\n",
    "import json\n",
    "import seaborn as sns"
   ]
  },
  {
   "cell_type": "code",
   "execution_count": 2,
   "metadata": {},
   "outputs": [],
   "source": [
    "with open(\"./shap_os5_bayes_remote/mlp_all.json\", \"r\") as file:\n",
    "    shap_value = json.load(file)"
   ]
  },
  {
   "cell_type": "code",
   "execution_count": 4,
   "metadata": {},
   "outputs": [
    {
     "name": "stdout",
     "output_type": "stream",
     "text": [
      "Mean: 0.001133958999301162\n",
      "Variance: 3.8540091341101683e-07\n",
      "Q1: 0.0007316921774431606, Q3: 0.00138724783021579\n"
     ]
    }
   ],
   "source": [
    "data1 = np.array(shap_value[\"her2_zero\"])\n",
    "data2 = np.array(shap_value[\"her2_low\"])\n",
    "data3 = np.array(shap_value[\"her2_pos\"])\n",
    "\n",
    "def cal(data):\n",
    "    # 计算平均数\n",
    "    mean = np.mean(data)\n",
    "\n",
    "    # 计算方差\n",
    "    variance = np.var(data)\n",
    "\n",
    "    # 计算四分位点\n",
    "    # 使用分位函数分别计算第1和第3个四分位数\n",
    "    q1 = np.percentile(data, 25)\n",
    "    q3 = np.percentile(data, 75)\n",
    "\n",
    "    print(f\"Mean: {mean}\")\n",
    "    print(f\"Variance: {variance}\")\n",
    "    print(f\"Q1: {q1}, Q3: {q3}\")\n",
    "\n",
    "cal(data2)"
   ]
  },
  {
   "cell_type": "code",
   "execution_count": 5,
   "metadata": {},
   "outputs": [
    {
     "data": {
      "image/png": "[encoded data removed]",
      "text/plain": [
       "<Figure size 640x480 with 1 Axes>"
      ]
     },
     "metadata": {},
     "output_type": "display_data"
    }
   ],
   "source": [
    "# 创建示例数据\n",
    "np.random.seed(0)\n",
    "data1 = np.array(shap_value[\"her2_zero\"])\n",
    "data2 = np.array(shap_value[\"her2_low\"])\n",
    "data3 = np.array(shap_value[\"her2_pos\"])\n",
    "\n",
    "# # 绘制箱型图\n",
    "# plt.boxplot([data1, data2, data3], labels=['Her2 Zero', 'Her2 Low', 'Her2 Postive'], showfliers=False)\n",
    "\n",
    "# # 获取每组数据的统计值\n",
    "# descriptions = [np.round(np.percentile(data, [25, 50, 75]), 2) for data in [data1, data2, data3]]\n",
    "\n",
    "# # 添加箱线图中的数值\n",
    "# for i, desc in enumerate(descriptions):\n",
    "#     plt.text(i + 1, desc[0], f\"{desc[0]:.2f}\", ha='left', va='bottom')  # Q1\n",
    "#     plt.text(i + 1, desc[1], f\"{desc[1]:.2f}\", ha='left', va='bottom')  # median\n",
    "#     plt.text(i + 1, desc[2], f\"{desc[2]:.2f}\", ha='left', va='bottom')  # Q3\n",
    "\n",
    "# 转换数据为适合绘制小提琴图的格式\n",
    "data_dict = {'Her2 Zero': data1, 'Her2 Low': data2, 'Her2 Positive': data3}\n",
    "colors = ['#008BFB', '#9C23AD','#FB0050']\n",
    "# 绘制小提琴图\n",
    "sns.violinplot(data=data_dict, inner=None, palette=colors, linewidth=0)\n",
    "\n",
    "# 添加标题和标签\n",
    "# plt.title('Shap Value of Her2 Status on CHLP Cohort (All Patients)')\n",
    "plt.ylabel('Shap value')\n",
    "plt.ylim(-0.2, 0.4)\n",
    "# plt.gca().spines['top'].set_visible(False)  # 关闭顶部边界框\n",
    "# plt.gca().spines['right'].set_visible(False)  # 关闭右侧边界框\n",
    "# plt.gca().spines['bottom'].set_visible(False)  # 关闭底部边界框\n",
    "# plt.gca().spines['left'].set_visible(False)  # 关闭左侧边界框\n",
    "# 显示图像\n",
    "plt.show()"
   ]
  }
 ],
 "metadata": {
  "kernelspec": {
   "display_name": "medPred",
   "language": "python",
   "name": "python3"
  },
  "language_info": {
   "codemirror_mode": {
    "name": "ipython",
    "version": 3
   },
   "file_extension": ".py",
   "mimetype": "text/x-python",
   "name": "python",
   "nbconvert_exporter": "python",
   "pygments_lexer": "ipython3",
   "version": "3.8.18"
  }
 },
 "nbformat": 4,
 "nbformat_minor": 2
}
